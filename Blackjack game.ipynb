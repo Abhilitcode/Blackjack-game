{
 "cells": [
  {
   "cell_type": "markdown",
   "id": "454bab00",
   "metadata": {},
   "source": [
    "# Imports and Global Variables\n"
   ]
  },
  {
   "cell_type": "code",
   "execution_count": 1,
   "id": "c62e0c7a",
   "metadata": {},
   "outputs": [],
   "source": [
    "import random\n",
    "\n",
    "suits = ('Hearts', 'Diamonds', 'Spades', 'Clubs')\n",
    "ranks = ('Two', 'Three', 'Four', 'Five', 'Six', 'Seven', 'Eight', 'Nine', 'Ten', 'Jack', 'Queen', 'King', 'Ace')\n",
    "values = {'Two':2, 'Three':3, 'Four':4, 'Five':5, 'Six':6, 'Seven':7, 'Eight':8, 'Nine':9, 'Ten':10, 'Jack':10,\n",
    "         'Queen':10, 'King':10, 'Ace':11}\n",
    "playing = True"
   ]
  },
  {
   "cell_type": "markdown",
   "id": "4a0aff9d",
   "metadata": {},
   "source": [
    "# Step 2: Create a Card Class"
   ]
  },
  {
   "cell_type": "code",
   "execution_count": 2,
   "id": "1d460e1f",
   "metadata": {},
   "outputs": [],
   "source": [
    "class Card:\n",
    "    def __init__(self,suit,rank):\n",
    "        self.suit = suit\n",
    "        self.rank = rank\n",
    "    \n",
    "    def __str__(self):\n",
    "        return self.rank+ ' of '+ self.suit\n",
    "        "
   ]
  },
  {
   "cell_type": "markdown",
   "id": "9752e135",
   "metadata": {},
   "source": [
    "# Step 3: Create a Deck Class"
   ]
  },
  {
   "cell_type": "code",
   "execution_count": 3,
   "id": "d567e560",
   "metadata": {},
   "outputs": [],
   "source": [
    "class Deck:\n",
    "    \n",
    "    def __init__(self):\n",
    "        self.deck = []\n",
    "        for suit in suits:\n",
    "            for rank in ranks:\n",
    "                self.deck.append(Card(suit,rank))\n",
    "                \n",
    "    def __str__(self):  #to represent the deck\n",
    "        deck_comp = ''\n",
    "        for card in self.deck:\n",
    "            deck_comp+='\\n'+ card.__str__()\n",
    "        return \"The deck has: \"+deck_comp\n",
    "    \n",
    "    def shuffle(self):\n",
    "        random.shuffle(self.deck)\n",
    "        \n",
    "    def deal(self):\n",
    "        single_card = self.deck.pop()\n",
    "        return single_card\n",
    "                "
   ]
  },
  {
   "cell_type": "markdown",
   "id": "22249d3b",
   "metadata": {},
   "source": [
    "TESTING: Just to see that everything works so far, let's see what our Deck looks like!"
   ]
  },
  {
   "cell_type": "code",
   "execution_count": 4,
   "id": "91908aa0",
   "metadata": {
    "scrolled": true
   },
   "outputs": [
    {
     "name": "stdout",
     "output_type": "stream",
     "text": [
      "The deck has: \n",
      "Six of Diamonds\n",
      "Seven of Clubs\n",
      "Two of Diamonds\n",
      "Seven of Hearts\n",
      "Six of Spades\n",
      "King of Hearts\n",
      "Ten of Hearts\n",
      "Queen of Clubs\n",
      "Queen of Diamonds\n",
      "Eight of Hearts\n",
      "Six of Clubs\n",
      "Three of Spades\n",
      "Eight of Clubs\n",
      "Five of Clubs\n",
      "Four of Clubs\n",
      "Nine of Diamonds\n",
      "Three of Hearts\n",
      "Ace of Hearts\n",
      "Four of Spades\n",
      "Ten of Clubs\n",
      "Queen of Spades\n",
      "Ten of Diamonds\n",
      "Ace of Clubs\n",
      "King of Spades\n",
      "Two of Clubs\n",
      "Five of Spades\n",
      "King of Diamonds\n",
      "Jack of Hearts\n",
      "Two of Spades\n",
      "King of Clubs\n",
      "Three of Diamonds\n",
      "Eight of Diamonds\n",
      "Three of Clubs\n",
      "Nine of Spades\n",
      "Six of Hearts\n",
      "Five of Hearts\n",
      "Seven of Diamonds\n",
      "Two of Hearts\n",
      "Nine of Clubs\n",
      "Four of Hearts\n",
      "Eight of Spades\n",
      "Ace of Spades\n",
      "Ace of Diamonds\n",
      "Nine of Hearts\n",
      "Four of Diamonds\n",
      "Queen of Hearts\n",
      "Ten of Spades\n",
      "Jack of Spades\n",
      "Jack of Clubs\n",
      "Five of Diamonds\n",
      "Jack of Diamonds\n",
      "Seven of Spades\n"
     ]
    }
   ],
   "source": [
    "test_deck = Deck()\n",
    "test_deck.shuffle()\n",
    "print(test_deck)"
   ]
  },
  {
   "cell_type": "markdown",
   "id": "106ce3ef",
   "metadata": {},
   "source": [
    "# Step 4: Create a Hand Class"
   ]
  },
  {
   "cell_type": "code",
   "execution_count": 5,
   "id": "aece197f",
   "metadata": {},
   "outputs": [],
   "source": [
    "class Hand:\n",
    "    def __init__(self):\n",
    "        self.cards = []  # start with an empty list as we did in the Deck class\n",
    "        self.value = 0   # start with zero value\n",
    "        self.aces = 0    # add an attribute to keep track of aces\n",
    "    \n",
    "    def add_card(self,card):\n",
    "        #card passed in\n",
    "        # from Deck.deal()--> single Card(suit,rank)\n",
    "        self.cards.append(card)\n",
    "        self.value+= values[card.rank]\n",
    "        \n",
    "        #track aces\n",
    "        if card.rank == 'Ace':\n",
    "            self.aces+=1\n",
    "        \n",
    "    def adjust_for_ace(self):\n",
    "        #if my current value is 21 than change the ace value from 11 to 1\n",
    "        while self.value > 21 and self.aces > 0:\n",
    "            self.value -= 10\n",
    "            self.aces -= 1 \n",
    "        "
   ]
  },
  {
   "cell_type": "code",
   "execution_count": 6,
   "id": "1e737598",
   "metadata": {},
   "outputs": [],
   "source": [
    "zero = 0\n",
    "one = 1\n",
    "two = 2"
   ]
  },
  {
   "cell_type": "code",
   "execution_count": 7,
   "id": "813cd6bd",
   "metadata": {},
   "outputs": [
    {
     "name": "stdout",
     "output_type": "stream",
     "text": [
      "True\n"
     ]
    }
   ],
   "source": [
    "if 2:\n",
    "    print('True')"
   ]
  },
  {
   "cell_type": "markdown",
   "id": "073ba4b1",
   "metadata": {},
   "source": [
    "TESTING: Before we tackle the issue of changing Aces, let's make sure we can add two cards to a player's hand and obtain their value:"
   ]
  },
  {
   "cell_type": "code",
   "execution_count": 8,
   "id": "eb27d509",
   "metadata": {},
   "outputs": [
    {
     "name": "stdout",
     "output_type": "stream",
     "text": [
      "Jack of Hearts\n",
      "10\n"
     ]
    }
   ],
   "source": [
    "test_deck = Deck()\n",
    "test_deck.shuffle()\n",
    "#Player\n",
    "test_player = Hand()\n",
    "#Deal one card from the deck Card(suit,rank)\n",
    "pulled_card = test_deck.deal()\n",
    "print(pulled_card)\n",
    "test_player.add_card(pulled_card)\n",
    "print(test_player.value)\n",
    "\n"
   ]
  },
  {
   "cell_type": "code",
   "execution_count": 9,
   "id": "a0bd22b5",
   "metadata": {},
   "outputs": [],
   "source": [
    "#in one-line\n",
    "test_player.add_card(test_deck.deal())"
   ]
  },
  {
   "cell_type": "code",
   "execution_count": 10,
   "id": "f8ab3f82",
   "metadata": {},
   "outputs": [
    {
     "data": {
      "text/plain": [
       "19"
      ]
     },
     "execution_count": 10,
     "metadata": {},
     "output_type": "execute_result"
    }
   ],
   "source": [
    "test_player.value"
   ]
  },
  {
   "cell_type": "markdown",
   "id": "fcc284c6",
   "metadata": {},
   "source": [
    "# Step 5: Create a Chips Class"
   ]
  },
  {
   "cell_type": "code",
   "execution_count": 11,
   "id": "d8d1306c",
   "metadata": {},
   "outputs": [],
   "source": [
    "class Chips:\n",
    "    \n",
    "    def __init__(self,total=100):\n",
    "        self.total = 100  # This can be set to a default value or supplied by a user input\n",
    "        self.bet = 0\n",
    "        \n",
    "    def win_bet(self):\n",
    "        self.total += self.bet\n",
    "    \n",
    "    def lose_bet(self):\n",
    "        self.total -= self.bet"
   ]
  },
  {
   "cell_type": "markdown",
   "id": "c0a76089",
   "metadata": {},
   "source": [
    "# Step 6: Write a function for taking bets"
   ]
  },
  {
   "cell_type": "code",
   "execution_count": 12,
   "id": "1b651730",
   "metadata": {},
   "outputs": [],
   "source": [
    "def take_bet(chips):\n",
    "    \n",
    "    while True:\n",
    "        try:\n",
    "            chips.bet = int(input('How many chips would you like to bet? '))\n",
    "        except ValueError:\n",
    "            print('Sorry, a bet must be an integer!')\n",
    "        else:\n",
    "            if chips.bet > chips.total:\n",
    "                print(\"Sorry, your bet can't exceed\",chips.total)\n",
    "            else:\n",
    "                break\n"
   ]
  },
  {
   "cell_type": "markdown",
   "id": "9d34532b",
   "metadata": {},
   "source": [
    "# Step 7: Write a function for taking hits"
   ]
  },
  {
   "cell_type": "code",
   "execution_count": 13,
   "id": "eac69cca",
   "metadata": {},
   "outputs": [],
   "source": [
    "def hit(deck,hand):\n",
    "    \n",
    "    single_card = deck.deal()\n",
    "    hand.add_card(single_card)\n",
    "    hand.adjust_for_ace()"
   ]
  },
  {
   "cell_type": "markdown",
   "id": "769c87a1",
   "metadata": {},
   "source": [
    "# Step 8: Write a function prompting the Player to Hit or Stand"
   ]
  },
  {
   "cell_type": "code",
   "execution_count": 14,
   "id": "cb80179c",
   "metadata": {},
   "outputs": [],
   "source": [
    "def hit_or_stand(deck,hand):\n",
    "    global playing  # to control an upcoming while loop\n",
    "    \n",
    "    while True:\n",
    "        x = input(\"Would you like to Hit or Stand? Enter 'h' or 's' \")\n",
    "        \n",
    "        if x[0].lower() == 'h':\n",
    "            hit(deck,hand)  # hit() function defined above\n",
    "\n",
    "        elif x[0].lower() == 's':\n",
    "            print(\"Player stands. Dealer is playing.\")\n",
    "            playing = False\n",
    "\n",
    "        else:\n",
    "            print(\"Sorry, please try again.\")\n",
    "            continue\n",
    "        break"
   ]
  },
  {
   "cell_type": "code",
   "execution_count": 15,
   "id": "6e41ccdf",
   "metadata": {},
   "outputs": [],
   "source": [
    "#example \n",
    "items = [1,2,3]\n"
   ]
  },
  {
   "cell_type": "code",
   "execution_count": 16,
   "id": "669bfd46",
   "metadata": {},
   "outputs": [
    {
     "name": "stdout",
     "output_type": "stream",
     "text": [
      "Items are: \n",
      "1\n",
      "2\n",
      "3\n"
     ]
    }
   ],
   "source": [
    "print(\"Items are: \",*items,sep='\\n')"
   ]
  },
  {
   "cell_type": "markdown",
   "id": "29be94d8",
   "metadata": {},
   "source": [
    "# Step 9: Write functions to display cards"
   ]
  },
  {
   "cell_type": "code",
   "execution_count": 17,
   "id": "d0b8308b",
   "metadata": {},
   "outputs": [],
   "source": [
    "def player_busts(player,dealer,chips):\n",
    "    print(\"Player busts!\")\n",
    "    chips.lose_bet()\n",
    "\n",
    "def player_wins(player,dealer,chips):\n",
    "    print(\"Player wins!\")\n",
    "    chips.win_bet()\n",
    "\n",
    "def dealer_busts(player,dealer,chips):\n",
    "    print(\"Dealer busts!\")\n",
    "    chips.win_bet()\n",
    "    \n",
    "def dealer_wins(player,dealer,chips):\n",
    "    print(\"Dealer wins!\")\n",
    "    chips.lose_bet()\n",
    "    \n",
    "def push(player,dealer):\n",
    "    print(\"Dealer and Player tie! It's a push.\")\n"
   ]
  },
  {
   "cell_type": "markdown",
   "id": "43a8bfe4",
   "metadata": {},
   "source": [
    "# Step 10: Write functions to handle end of game scenarios"
   ]
  },
  {
   "cell_type": "code",
   "execution_count": 18,
   "id": "6453f81e",
   "metadata": {},
   "outputs": [],
   "source": [
    "def show_some(player,dealer):\n",
    "    print(\"\\nDealer's Hand:\")\n",
    "    print(\" \")\n",
    "    print('',dealer.cards[1])  \n",
    "    print(\"\\nPlayer's Hand:\", *player.cards, sep='\\n ')\n",
    "    \n",
    "def show_all(player,dealer):\n",
    "    print(\"\\nDealer's Hand:\", *dealer.cards, sep='\\n ')\n",
    "    print(\"Dealer's Hand =\",dealer.value)\n",
    "    print(\"\\nPlayer's Hand:\", *player.cards, sep='\\n ')\n",
    "    print(\"Player's Hand =\",player.value)\n"
   ]
  },
  {
   "cell_type": "markdown",
   "id": "809b3cd0",
   "metadata": {},
   "source": [
    "# And now on to the game!!"
   ]
  },
  {
   "cell_type": "code",
   "execution_count": 19,
   "id": "b98d1a32",
   "metadata": {},
   "outputs": [
    {
     "name": "stdout",
     "output_type": "stream",
     "text": [
      "Welcome to BlackJack! Get as close to 21 as you can without going over!\n",
      "    Dealer hits until she reaches 17. Aces count as 1 or 11.\n",
      "How many chips would you like to bet? 50\n",
      "\n",
      "Dealer's Hand:\n",
      " \n",
      " Eight of Spades\n",
      "\n",
      "Player's Hand:\n",
      " Four of Clubs\n",
      " Jack of Spades\n",
      "Would you like to Hit or Stand? Enter 'h' or 's' h\n",
      "\n",
      "Dealer's Hand:\n",
      " \n",
      " Eight of Spades\n",
      "\n",
      "Player's Hand:\n",
      " Four of Clubs\n",
      " Jack of Spades\n",
      " Jack of Hearts\n",
      "Player busts!\n",
      "\n",
      "Player's winnings stand at 50\n",
      "Would you like to play another hand? Enter 'y' or 'n' y\n",
      "Welcome to BlackJack! Get as close to 21 as you can without going over!\n",
      "    Dealer hits until she reaches 17. Aces count as 1 or 11.\n",
      "How many chips would you like to bet? 100\n",
      "\n",
      "Dealer's Hand:\n",
      " \n",
      " King of Clubs\n",
      "\n",
      "Player's Hand:\n",
      " Queen of Diamonds\n",
      " Seven of Hearts\n",
      "Would you like to Hit or Stand? Enter 'h' or 's' s\n",
      "Player stands. Dealer is playing.\n",
      "\n",
      "Dealer's Hand:\n",
      " \n",
      " King of Clubs\n",
      "\n",
      "Player's Hand:\n",
      " Queen of Diamonds\n",
      " Seven of Hearts\n",
      "\n",
      "Dealer's Hand:\n",
      " Five of Spades\n",
      " King of Clubs\n",
      " Three of Hearts\n",
      "Dealer's Hand = 18\n",
      "\n",
      "Player's Hand:\n",
      " Queen of Diamonds\n",
      " Seven of Hearts\n",
      "Player's Hand = 17\n",
      "Dealer wins!\n",
      "\n",
      "Player's winnings stand at 0\n",
      "Would you like to play another hand? Enter 'y' or 'n' y\n",
      "Welcome to BlackJack! Get as close to 21 as you can without going over!\n",
      "    Dealer hits until she reaches 17. Aces count as 1 or 11.\n",
      "How many chips would you like to bet? 50\n",
      "\n",
      "Dealer's Hand:\n",
      " \n",
      " Nine of Clubs\n",
      "\n",
      "Player's Hand:\n",
      " King of Clubs\n",
      " Jack of Diamonds\n",
      "Would you like to Hit or Stand? Enter 'h' or 's' s\n",
      "Player stands. Dealer is playing.\n",
      "\n",
      "Dealer's Hand:\n",
      " \n",
      " Nine of Clubs\n",
      "\n",
      "Player's Hand:\n",
      " King of Clubs\n",
      " Jack of Diamonds\n",
      "\n",
      "Dealer's Hand:\n",
      " Four of Hearts\n",
      " Nine of Clubs\n",
      " Queen of Spades\n",
      "Dealer's Hand = 23\n",
      "\n",
      "Player's Hand:\n",
      " King of Clubs\n",
      " Jack of Diamonds\n",
      "Player's Hand = 20\n",
      "Dealer busts!\n",
      "\n",
      "Player's winnings stand at 150\n",
      "Would you like to play another hand? Enter 'y' or 'n' n\n",
      "Thanks for playing!\n"
     ]
    }
   ],
   "source": [
    "while True:\n",
    "    # Print an opening statement\n",
    "    print('Welcome to BlackJack! Get as close to 21 as you can without going over!\\n\\\n",
    "    Dealer hits until she reaches 17. Aces count as 1 or 11.')\n",
    "    \n",
    "    # Create & shuffle the deck, deal two cards to each player\n",
    "    deck = Deck()\n",
    "    deck.shuffle()\n",
    "    \n",
    "    player_hand = Hand()\n",
    "    player_hand.add_card(deck.deal())\n",
    "    player_hand.add_card(deck.deal())\n",
    "    \n",
    "    dealer_hand = Hand()\n",
    "    dealer_hand.add_card(deck.deal())\n",
    "    dealer_hand.add_card(deck.deal())\n",
    "            \n",
    "    # Set up the Player's chips\n",
    "    player_chips = Chips()  # remember the default value is 100    \n",
    "    \n",
    "    # Prompt the Player for their bet\n",
    "    take_bet(player_chips)\n",
    "    \n",
    "    # Show cards (but keep one dealer card hidden)\n",
    "    show_some(player_hand,dealer_hand)\n",
    "    \n",
    "    while playing:  # recall this variable from our hit_or_stand function\n",
    "        \n",
    "        # Prompt for Player to Hit or Stand\n",
    "        hit_or_stand(deck,player_hand) \n",
    "        \n",
    "        # Show cards (but keep one dealer card hidden)\n",
    "        show_some(player_hand,dealer_hand)  \n",
    "        \n",
    "        # If player's hand exceeds 21, run player_busts() and break out of loop\n",
    "        if player_hand.value > 21:\n",
    "            player_busts(player_hand,dealer_hand,player_chips)\n",
    "            break        \n",
    "\n",
    "\n",
    "    # If Player hasn't busted, play Dealer's hand until Dealer reaches 17 \n",
    "    if player_hand.value <= 21:\n",
    "        \n",
    "        while dealer_hand.value < 17:\n",
    "            hit(deck,dealer_hand)    \n",
    "    \n",
    "        # Show all cards\n",
    "        show_all(player_hand,dealer_hand)\n",
    "        \n",
    "        # Run different winning scenarios\n",
    "        if dealer_hand.value > 21:\n",
    "            dealer_busts(player_hand,dealer_hand,player_chips)\n",
    "\n",
    "        elif dealer_hand.value > player_hand.value:\n",
    "            dealer_wins(player_hand,dealer_hand,player_chips)\n",
    "\n",
    "        elif dealer_hand.value < player_hand.value:\n",
    "            player_wins(player_hand,dealer_hand,player_chips)\n",
    "\n",
    "        else:\n",
    "            push(player_hand,dealer_hand)        \n",
    "    \n",
    "    # Inform Player of their chips total \n",
    "    print(\"\\nPlayer's winnings stand at\",player_chips.total)\n",
    "    \n",
    "    # Ask to play again\n",
    "    new_game = input(\"Would you like to play another hand? Enter 'y' or 'n' \")\n",
    "    \n",
    "    if new_game[0].lower()=='y':\n",
    "        playing=True\n",
    "        continue\n",
    "    else:\n",
    "        print(\"Thanks for playing!\")\n",
    "        break\n"
   ]
  }
 ],
 "metadata": {
  "kernelspec": {
   "display_name": "Python 3 (ipykernel)",
   "language": "python",
   "name": "python3"
  },
  "language_info": {
   "codemirror_mode": {
    "name": "ipython",
    "version": 3
   },
   "file_extension": ".py",
   "mimetype": "text/x-python",
   "name": "python",
   "nbconvert_exporter": "python",
   "pygments_lexer": "ipython3",
   "version": "3.9.12"
  }
 },
 "nbformat": 4,
 "nbformat_minor": 5
}
