{
 "cells": [
  {
   "cell_type": "code",
   "execution_count": 11,
   "id": "25551581",
   "metadata": {},
   "outputs": [],
   "source": [
    "#done wid card create\n",
    "#begin wid deck\n",
    "import random\n",
    "suits = ('Hearts', 'Diamonds', 'Spades', 'Clubs')\n",
    "ranks = ('Two', 'Three', 'Four', 'Five', 'Six', 'Seven', 'Eight', 'Nine', 'Ten', 'Jack', 'Queen', 'King', 'Ace')\n",
    "\n",
    "values = {'Two':2, 'Three':3, 'Four':4, 'Five':5, 'Six':6, 'Seven':7, 'Eight':8, \n",
    "            'Nine':9, 'Ten':10, 'Jack':11, 'Queen':12, 'King':13, 'Ace':14}"
   ]
  },
  {
   "cell_type": "code",
   "execution_count": 12,
   "id": "8cee4b5c",
   "metadata": {},
   "outputs": [],
   "source": [
    "class Card:\n",
    "    def __init__(self,suit,rank):\n",
    "        self.suit = suit\n",
    "        self.rank = rank\n",
    "        self.values = values[rank]\n",
    "    def __str__(self):\n",
    "        return self.rank+\" of \"+self.suit\n",
    "        "
   ]
  },
  {
   "cell_type": "code",
   "execution_count": 13,
   "id": "7c1d0717",
   "metadata": {},
   "outputs": [],
   "source": [
    "two_hearts = Card(\"Hearts\",\"Two\")"
   ]
  },
  {
   "cell_type": "code",
   "execution_count": 14,
   "id": "d65064e1",
   "metadata": {},
   "outputs": [
    {
     "name": "stdout",
     "output_type": "stream",
     "text": [
      "Two of Hearts\n"
     ]
    }
   ],
   "source": [
    "print(two_hearts)"
   ]
  },
  {
   "cell_type": "code",
   "execution_count": 15,
   "id": "4d507b9e",
   "metadata": {},
   "outputs": [
    {
     "data": {
      "text/plain": [
       "2"
      ]
     },
     "execution_count": 15,
     "metadata": {},
     "output_type": "execute_result"
    }
   ],
   "source": [
    "#now we want rank to convert to integer\n",
    "two_hearts.values"
   ]
  },
  {
   "cell_type": "code",
   "execution_count": 16,
   "id": "b86a53e5",
   "metadata": {},
   "outputs": [],
   "source": [
    "Three_of_clubs = Card(\"Clubs\",'Three')"
   ]
  },
  {
   "cell_type": "code",
   "execution_count": 17,
   "id": "42f4d165",
   "metadata": {},
   "outputs": [
    {
     "name": "stdout",
     "output_type": "stream",
     "text": [
      "Three of Clubs\n"
     ]
    }
   ],
   "source": [
    "print(Three_of_clubs)"
   ]
  },
  {
   "cell_type": "code",
   "execution_count": 18,
   "id": "0c60e873",
   "metadata": {},
   "outputs": [
    {
     "data": {
      "text/plain": [
       "3"
      ]
     },
     "execution_count": 18,
     "metadata": {},
     "output_type": "execute_result"
    }
   ],
   "source": [
    "Three_of_clubs.values"
   ]
  },
  {
   "cell_type": "code",
   "execution_count": 19,
   "id": "1bb29dc6",
   "metadata": {},
   "outputs": [
    {
     "data": {
      "text/plain": [
       "False"
      ]
     },
     "execution_count": 19,
     "metadata": {},
     "output_type": "execute_result"
    }
   ],
   "source": [
    "Three_of_clubs.values < two_hearts.values"
   ]
  },
  {
   "cell_type": "code",
   "execution_count": 20,
   "id": "b39f13cf",
   "metadata": {},
   "outputs": [
    {
     "data": {
      "text/plain": [
       "False"
      ]
     },
     "execution_count": 20,
     "metadata": {},
     "output_type": "execute_result"
    }
   ],
   "source": [
    "Three_of_clubs.values == two_hearts.values"
   ]
  },
  {
   "cell_type": "code",
   "execution_count": 21,
   "id": "4cedf22d",
   "metadata": {},
   "outputs": [],
   "source": [
    "#Deck Card\n",
    "class Deck:\n",
    "    def __init__(self):\n",
    "        self.all_cards = []\n",
    "        \n",
    "        for suit in suits:\n",
    "            for rank in ranks:\n",
    "                created_card = Card(suit,rank)\n",
    "                self.all_cards.append(created_card)\n",
    "    def shuffle(self):\n",
    "        #shuffle andar hi kaam krta hai it dosent return anything\n",
    "        random.shuffle(self.all_cards)\n",
    "    #to grab a single card\n",
    "    def deal_one(self):\n",
    "        return self.all_cards.pop()"
   ]
  },
  {
   "cell_type": "code",
   "execution_count": 22,
   "id": "27505073",
   "metadata": {},
   "outputs": [],
   "source": [
    "new_card = Deck()"
   ]
  },
  {
   "cell_type": "code",
   "execution_count": 23,
   "id": "c79b46da",
   "metadata": {},
   "outputs": [],
   "source": [
    "new_card.shuffle()"
   ]
  },
  {
   "cell_type": "code",
   "execution_count": 24,
   "id": "7e13930d",
   "metadata": {},
   "outputs": [],
   "source": [
    "myCard = new_card.deal_one()"
   ]
  },
  {
   "cell_type": "code",
   "execution_count": 25,
   "id": "db288c1f",
   "metadata": {},
   "outputs": [
    {
     "name": "stdout",
     "output_type": "stream",
     "text": [
      "Four of Spades\n"
     ]
    }
   ],
   "source": [
    "print(myCard)"
   ]
  },
  {
   "cell_type": "code",
   "execution_count": 101,
   "id": "b4a5aecc",
   "metadata": {},
   "outputs": [],
   "source": [
    "new_card = Deck()"
   ]
  },
  {
   "cell_type": "code",
   "execution_count": 102,
   "id": "a6c7c5c1",
   "metadata": {},
   "outputs": [
    {
     "data": {
      "text/plain": [
       "[<__main__.Card at 0x1e20d6a4790>,\n",
       " <__main__.Card at 0x1e20d6a4220>,\n",
       " <__main__.Card at 0x1e20d6a41c0>,\n",
       " <__main__.Card at 0x1e20d6a44c0>,\n",
       " <__main__.Card at 0x1e20d6a4880>,\n",
       " <__main__.Card at 0x1e20d6a4040>,\n",
       " <__main__.Card at 0x1e20d988760>,\n",
       " <__main__.Card at 0x1e20d988970>,\n",
       " <__main__.Card at 0x1e20d988f70>,\n",
       " <__main__.Card at 0x1e20d988610>,\n",
       " <__main__.Card at 0x1e20dc48370>,\n",
       " <__main__.Card at 0x1e20dc48c10>,\n",
       " <__main__.Card at 0x1e20dc482e0>,\n",
       " <__main__.Card at 0x1e20d631b20>,\n",
       " <__main__.Card at 0x1e20d631610>,\n",
       " <__main__.Card at 0x1e20d631460>,\n",
       " <__main__.Card at 0x1e20d631a90>,\n",
       " <__main__.Card at 0x1e20d631c10>,\n",
       " <__main__.Card at 0x1e20d631400>,\n",
       " <__main__.Card at 0x1e20d631c40>,\n",
       " <__main__.Card at 0x1e20d6319a0>,\n",
       " <__main__.Card at 0x1e20d631220>,\n",
       " <__main__.Card at 0x1e20d6316d0>,\n",
       " <__main__.Card at 0x1e20d631190>,\n",
       " <__main__.Card at 0x1e20d631e50>,\n",
       " <__main__.Card at 0x1e20d631be0>,\n",
       " <__main__.Card at 0x1e20d631700>,\n",
       " <__main__.Card at 0x1e20d6314f0>,\n",
       " <__main__.Card at 0x1e20d6316a0>,\n",
       " <__main__.Card at 0x1e20d631070>,\n",
       " <__main__.Card at 0x1e20d6312b0>,\n",
       " <__main__.Card at 0x1e20d9a57f0>,\n",
       " <__main__.Card at 0x1e20d9a5610>,\n",
       " <__main__.Card at 0x1e20d9a5b80>,\n",
       " <__main__.Card at 0x1e20d9a5880>,\n",
       " <__main__.Card at 0x1e20d9a5220>,\n",
       " <__main__.Card at 0x1e20d9a5d30>,\n",
       " <__main__.Card at 0x1e20d9a5df0>,\n",
       " <__main__.Card at 0x1e20d9a5040>,\n",
       " <__main__.Card at 0x1e20d9a5490>,\n",
       " <__main__.Card at 0x1e20d9a5790>,\n",
       " <__main__.Card at 0x1e20d9a5160>,\n",
       " <__main__.Card at 0x1e20d9a58e0>,\n",
       " <__main__.Card at 0x1e20d9a51f0>,\n",
       " <__main__.Card at 0x1e20d9a5a00>,\n",
       " <__main__.Card at 0x1e20d9a5100>,\n",
       " <__main__.Card at 0x1e20d9a5130>,\n",
       " <__main__.Card at 0x1e20d9a5340>,\n",
       " <__main__.Card at 0x1e20d9a59d0>,\n",
       " <__main__.Card at 0x1e20d9a5bb0>,\n",
       " <__main__.Card at 0x1e20d9a54f0>,\n",
       " <__main__.Card at 0x1e20d9a5910>]"
      ]
     },
     "execution_count": 102,
     "metadata": {},
     "output_type": "execute_result"
    }
   ],
   "source": [
    "new_card.all_cards"
   ]
  },
  {
   "cell_type": "code",
   "execution_count": 89,
   "id": "f6e81a9f",
   "metadata": {},
   "outputs": [],
   "source": [
    "first_card = new_card.all_cards[0]"
   ]
  },
  {
   "cell_type": "code",
   "execution_count": 90,
   "id": "a841153a",
   "metadata": {},
   "outputs": [
    {
     "data": {
      "text/plain": [
       "'Two'"
      ]
     },
     "execution_count": 90,
     "metadata": {},
     "output_type": "execute_result"
    }
   ],
   "source": [
    "first_card.rank"
   ]
  },
  {
   "cell_type": "code",
   "execution_count": 91,
   "id": "abb8eee9",
   "metadata": {},
   "outputs": [],
   "source": [
    "last_card = new_card.all_cards[-1]"
   ]
  },
  {
   "cell_type": "code",
   "execution_count": 92,
   "id": "fee1968d",
   "metadata": {},
   "outputs": [
    {
     "name": "stdout",
     "output_type": "stream",
     "text": [
      "Ace of Clubs\n"
     ]
    }
   ],
   "source": [
    "print(last_card)"
   ]
  },
  {
   "cell_type": "code",
   "execution_count": 93,
   "id": "d660036b",
   "metadata": {},
   "outputs": [
    {
     "name": "stdout",
     "output_type": "stream",
     "text": [
      "Two of Hearts\n"
     ]
    }
   ],
   "source": [
    "print(first_card)"
   ]
  },
  {
   "cell_type": "code",
   "execution_count": 108,
   "id": "7bd98865",
   "metadata": {},
   "outputs": [
    {
     "name": "stdout",
     "output_type": "stream",
     "text": [
      "Four of Hearts\n",
      "Four of Clubs\n",
      "Ten of Spades\n",
      "Eight of Spades\n",
      "Two of Diamonds\n",
      "Three of Clubs\n",
      "Eight of Clubs\n",
      "Ten of Diamonds\n",
      "Nine of Spades\n",
      "King of Spades\n",
      "Six of Clubs\n",
      "Nine of Hearts\n",
      "Queen of Diamonds\n",
      "Ten of Hearts\n",
      "Five of Spades\n",
      "Ace of Spades\n",
      "Eight of Hearts\n",
      "Jack of Clubs\n",
      "King of Clubs\n",
      "Six of Spades\n",
      "Ace of Hearts\n",
      "Queen of Hearts\n",
      "Three of Hearts\n",
      "Nine of Clubs\n",
      "Three of Spades\n",
      "Jack of Spades\n",
      "Six of Diamonds\n",
      "Jack of Hearts\n",
      "Ace of Diamonds\n",
      "Seven of Clubs\n",
      "Jack of Diamonds\n",
      "Queen of Spades\n",
      "Two of Clubs\n",
      "Five of Diamonds\n",
      "Queen of Clubs\n",
      "Seven of Hearts\n",
      "Six of Hearts\n",
      "Two of Spades\n",
      "Two of Hearts\n",
      "Seven of Diamonds\n",
      "Seven of Spades\n",
      "King of Hearts\n",
      "Five of Hearts\n",
      "Four of Spades\n",
      "Eight of Diamonds\n",
      "Ace of Clubs\n",
      "King of Diamonds\n",
      "Ten of Clubs\n",
      "Five of Clubs\n",
      "Four of Diamonds\n",
      "Nine of Diamonds\n",
      "Three of Diamonds\n"
     ]
    }
   ],
   "source": [
    "for card_object in new_card.all_cards:\n",
    "    print(card_object)"
   ]
  },
  {
   "cell_type": "code",
   "execution_count": 96,
   "id": "6d2ae320",
   "metadata": {},
   "outputs": [
    {
     "name": "stdout",
     "output_type": "stream",
     "text": [
      "Ace of Clubs\n"
     ]
    }
   ],
   "source": [
    "#befor shuffle\n",
    "print(last_card)"
   ]
  },
  {
   "cell_type": "code",
   "execution_count": 103,
   "id": "e73ec8eb",
   "metadata": {},
   "outputs": [],
   "source": [
    "new_card.shuffle()"
   ]
  },
  {
   "cell_type": "code",
   "execution_count": 104,
   "id": "558cba5d",
   "metadata": {},
   "outputs": [
    {
     "name": "stdout",
     "output_type": "stream",
     "text": [
      "[<__main__.Card object at 0x000001E20D6A41C0>, <__main__.Card object at 0x000001E20D9A5160>, <__main__.Card object at 0x000001E20D9A5880>, <__main__.Card object at 0x000001E20D9A5610>, <__main__.Card object at 0x000001E20D631B20>, <__main__.Card object at 0x000001E20D9A5790>, <__main__.Card object at 0x000001E20D9A5100>, <__main__.Card object at 0x000001E20D631220>, <__main__.Card object at 0x000001E20D9A5B80>, <__main__.Card object at 0x000001E20D9A5DF0>, <__main__.Card object at 0x000001E20D9A51F0>, <__main__.Card object at 0x000001E20D988970>, <__main__.Card object at 0x000001E20D631190>, <__main__.Card object at 0x000001E20D988F70>, <__main__.Card object at 0x000001E20D631070>, <__main__.Card object at 0x000001E20D9A5040>, <__main__.Card object at 0x000001E20D988760>, <__main__.Card object at 0x000001E20D9A59D0>, <__main__.Card object at 0x000001E20D9A54F0>, <__main__.Card object at 0x000001E20D6312B0>, <__main__.Card object at 0x000001E20DC482E0>, <__main__.Card object at 0x000001E20DC48370>, <__main__.Card object at 0x000001E20D6A4220>, <__main__.Card object at 0x000001E20D9A5130>, <__main__.Card object at 0x000001E20D6314F0>, <__main__.Card object at 0x000001E20D9A5220>, <__main__.Card object at 0x000001E20D631C10>, <__main__.Card object at 0x000001E20D988610>, <__main__.Card object at 0x000001E20D631BE0>, <__main__.Card object at 0x000001E20D9A5A00>, <__main__.Card object at 0x000001E20D6316D0>, <__main__.Card object at 0x000001E20D9A5D30>, <__main__.Card object at 0x000001E20D9A5490>, <__main__.Card object at 0x000001E20D631A90>, <__main__.Card object at 0x000001E20D9A5BB0>, <__main__.Card object at 0x000001E20D6A4040>, <__main__.Card object at 0x000001E20D6A4880>, <__main__.Card object at 0x000001E20D631700>, <__main__.Card object at 0x000001E20D6A4790>, <__main__.Card object at 0x000001E20D631400>, <__main__.Card object at 0x000001E20D9A57F0>, <__main__.Card object at 0x000001E20DC48C10>, <__main__.Card object at 0x000001E20D6A44C0>, <__main__.Card object at 0x000001E20D6316A0>, <__main__.Card object at 0x000001E20D631C40>, <__main__.Card object at 0x000001E20D9A5910>, <__main__.Card object at 0x000001E20D631E50>, <__main__.Card object at 0x000001E20D9A5340>, <__main__.Card object at 0x000001E20D9A58E0>, <__main__.Card object at 0x000001E20D631460>, <__main__.Card object at 0x000001E20D6319A0>, <__main__.Card object at 0x000001E20D631610>]\n"
     ]
    }
   ],
   "source": [
    "print(new_card.all_cards)"
   ]
  },
  {
   "cell_type": "code",
   "execution_count": 106,
   "id": "aff1fc91",
   "metadata": {},
   "outputs": [],
   "source": [
    "bottom_card = new_card.all_cards[-1]"
   ]
  },
  {
   "cell_type": "code",
   "execution_count": 107,
   "id": "27e7535b",
   "metadata": {},
   "outputs": [
    {
     "name": "stdout",
     "output_type": "stream",
     "text": [
      "Three of Diamonds\n"
     ]
    }
   ],
   "source": [
    "print(bottom_card)"
   ]
  },
  {
   "cell_type": "code",
   "execution_count": 32,
   "id": "03d79e93",
   "metadata": {},
   "outputs": [],
   "source": [
    "#Player Class\n",
    "class Player:\n",
    "    def __init__(self,name):\n",
    "        \n",
    "        self.name = name\n",
    "        self.all_cards = []\n",
    "        \n",
    "    def remove_one(self):\n",
    "        return self.all_cards.pop(0)\n",
    "    \n",
    "    def add_cards(self , new_cards):\n",
    "        if type(new_cards)==type([]):\n",
    "            self.all_cards.extend(new_cards)\n",
    "        else:\n",
    "            self.all_cards.append(new_cards)\n",
    "            \n",
    "    def __str__(self):\n",
    "        return f'Player {self.name} has {len(self.all_cards)} cards.'"
   ]
  },
  {
   "cell_type": "code",
   "execution_count": 33,
   "id": "8d85a9eb",
   "metadata": {},
   "outputs": [],
   "source": [
    "new_player = Player(\"Jose\")"
   ]
  },
  {
   "cell_type": "code",
   "execution_count": 34,
   "id": "756f4056",
   "metadata": {},
   "outputs": [
    {
     "name": "stdout",
     "output_type": "stream",
     "text": [
      "Player Jose has 0 cards.\n"
     ]
    }
   ],
   "source": [
    "print(new_player)"
   ]
  },
  {
   "cell_type": "code",
   "execution_count": 35,
   "id": "068fb03e",
   "metadata": {},
   "outputs": [
    {
     "name": "stdout",
     "output_type": "stream",
     "text": [
      "Four of Spades\n"
     ]
    }
   ],
   "source": [
    "print(myCard)"
   ]
  },
  {
   "cell_type": "code",
   "execution_count": 36,
   "id": "240b5741",
   "metadata": {},
   "outputs": [],
   "source": [
    "new_player.add_cards(myCard)"
   ]
  },
  {
   "cell_type": "code",
   "execution_count": 37,
   "id": "df000a2e",
   "metadata": {},
   "outputs": [
    {
     "name": "stdout",
     "output_type": "stream",
     "text": [
      "Player Jose has 1 cards.\n"
     ]
    }
   ],
   "source": [
    "print(new_player)"
   ]
  },
  {
   "cell_type": "code",
   "execution_count": 38,
   "id": "20392e75",
   "metadata": {},
   "outputs": [
    {
     "name": "stdout",
     "output_type": "stream",
     "text": [
      "Four of Spades\n"
     ]
    }
   ],
   "source": [
    "print(new_player.all_cards[0])"
   ]
  },
  {
   "cell_type": "code",
   "execution_count": 39,
   "id": "e4858097",
   "metadata": {},
   "outputs": [],
   "source": [
    "#add multiple four of spades\n",
    "new_player.add_cards([myCard,myCard,myCard])"
   ]
  },
  {
   "cell_type": "code",
   "execution_count": 41,
   "id": "4a63bce8",
   "metadata": {},
   "outputs": [
    {
     "name": "stdout",
     "output_type": "stream",
     "text": [
      "Player Jose has 4 cards.\n"
     ]
    }
   ],
   "source": [
    "print(new_player)"
   ]
  },
  {
   "cell_type": "code",
   "execution_count": 44,
   "id": "0bf9ecdd",
   "metadata": {},
   "outputs": [],
   "source": [
    "removed_player = new_player.remove_one()"
   ]
  },
  {
   "cell_type": "code",
   "execution_count": 45,
   "id": "1461ae31",
   "metadata": {},
   "outputs": [
    {
     "name": "stdout",
     "output_type": "stream",
     "text": [
      "Player Jose has 2 cards.\n"
     ]
    }
   ],
   "source": [
    "print(new_player)"
   ]
  },
  {
   "cell_type": "code",
   "execution_count": 46,
   "id": "ca185c8e",
   "metadata": {},
   "outputs": [
    {
     "name": "stdout",
     "output_type": "stream",
     "text": [
      "Four of Spades\n"
     ]
    }
   ],
   "source": [
    "print(removed_player)"
   ]
  },
  {
   "cell_type": "code",
   "execution_count": null,
   "id": "7798185f",
   "metadata": {},
   "outputs": [],
   "source": []
  }
 ],
 "metadata": {
  "kernelspec": {
   "display_name": "Python 3 (ipykernel)",
   "language": "python",
   "name": "python3"
  },
  "language_info": {
   "codemirror_mode": {
    "name": "ipython",
    "version": 3
   },
   "file_extension": ".py",
   "mimetype": "text/x-python",
   "name": "python",
   "nbconvert_exporter": "python",
   "pygments_lexer": "ipython3",
   "version": "3.9.12"
  }
 },
 "nbformat": 4,
 "nbformat_minor": 5
}
